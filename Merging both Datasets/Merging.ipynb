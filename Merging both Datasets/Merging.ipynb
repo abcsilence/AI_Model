{
 "cells": [
  {
   "cell_type": "markdown",
   "metadata": {},
   "source": [
    "Merging The two datasets in one datsets \n"
   ]
  },
  {
   "cell_type": "code",
   "execution_count": 1,
   "metadata": {},
   "outputs": [
    {
     "name": "stdout",
     "output_type": "stream",
     "text": [
      "✅ Successfully merged without extra commas or header duplicates.\n"
     ]
    }
   ],
   "source": [
    "#Merging 2 datasets in one \n",
    "import pandas as pd\n",
    "\n",
    "# Step 1: Read both CSV files (make sure they have no header row duplicated)\n",
    "df1 = pd.read_csv(\"/Users/admin/Desktop/Coursework_AI/Datasets/kalimati-tarkari-prices-from-may-2021-to-september-2023.csv\")\n",
    "df2 = pd.read_csv(\"/Users/admin/Desktop/Coursework_AI/Datasets/kalimati-tarkari-prices-from-sep-2023-to-june-2024.csv\")\n",
    "\n",
    "# Step 2: Combine them vertically (stack rows)\n",
    "merged_df = pd.concat([df1, df2], ignore_index=True)\n",
    "\n",
    "# Step 3: Drop duplicate rows (optional, but useful if there are overlaps)\n",
    "merged_df.drop_duplicates(inplace=True)\n",
    "\n",
    "# Step 4: Save the merged dataset to a new CSV file\n",
    "merged_df.to_csv(\"TotalDatasetFromMay2021Tojune2024.csv\", index=False)\n",
    "\n",
    "print(\"Successfully merged without extra commas or header duplicates.\")\n"
   ]
  }
 ],
 "metadata": {
  "kernelspec": {
   "display_name": "Python 3",
   "language": "python",
   "name": "python3"
  },
  "language_info": {
   "codemirror_mode": {
    "name": "ipython",
    "version": 3
   },
   "file_extension": ".py",
   "mimetype": "text/x-python",
   "name": "python",
   "nbconvert_exporter": "python",
   "pygments_lexer": "ipython3",
   "version": "3.12.8"
  }
 },
 "nbformat": 4,
 "nbformat_minor": 2
}
