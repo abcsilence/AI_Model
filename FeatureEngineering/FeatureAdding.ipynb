{
 "cells": [
  {
   "cell_type": "code",
   "execution_count": 9,
   "metadata": {},
   "outputs": [
    {
     "name": "stdout",
     "output_type": "stream",
     "text": [
      "Season column added successfully!\n"
     ]
    }
   ],
   "source": [
    "#Inserting the seasonal according to the date time in datasets\n",
    "import pandas as pd\n",
    "from datetime import datetime\n",
    "\n",
    "# Load your dataset\n",
    "df = pd.read_csv(\"/Users/admin/Desktop/NewCourseWork_AI/Merging both Datasets/TotalDatasetFromMay2021Tojune2024.csv\")  # replace with actual path\n",
    "\n",
    "# Define function to map date string to Nepali season\n",
    "def get_season(date_val):\n",
    "    if pd.isna(date_val):  # handle missing/null values\n",
    "        return \"Unknown\"\n",
    "    \n",
    "    date_str = str(date_val).strip()\n",
    "\n",
    "    # Try all known formats\n",
    "    for fmt in (\"%Y-%m-%d\", \"%m/%d/%Y\", \"%d/%m/%Y\"):\n",
    "        try:\n",
    "            date = datetime.strptime(date_str, fmt)\n",
    "            break\n",
    "        except:\n",
    "            continue\n",
    "    else:\n",
    "        return \"Unknown\"  # if none match\n",
    "\n",
    "    # Map month to season\n",
    "    month = date.month\n",
    "    if month in [3, 4, 5]:\n",
    "        return \"Spring\"\n",
    "    elif month in [6, 7]:\n",
    "        return \"Summer\"\n",
    "    elif month in [8, 9]:\n",
    "        return \"Rainy\"\n",
    "    elif month in [10, 11]:\n",
    "        return \"Autumn\"\n",
    "    elif month in [12, 1]:\n",
    "        return \"Pre-winter\"\n",
    "    elif month == 2:\n",
    "        return \"Winter\"\n",
    "    return \"Unknown\"\n",
    "\n",
    "# Apply to Date column\n",
    "df[\"Season\"] = df[\"Date\"].apply(get_season)\n",
    "\n",
    "# Save to new CSV\n",
    "df.to_csv(\"vegetable_prices_with_season.csv\", index=False)\n",
    "\n",
    "print(\"Season column added successfully!\")\n"
   ]
  },
  {
   "cell_type": "code",
   "execution_count": 10,
   "metadata": {},
   "outputs": [
    {
     "name": "stdout",
     "output_type": "stream",
     "text": [
      "Variety column added successfully!\n"
     ]
    }
   ],
   "source": [
    "import pandas as pd\n",
    "\n",
    "# Load your dataset\n",
    "df = pd.read_csv(\"/Users/admin/Desktop/NewCourseWork_AI/FeatureEngineering/vegetable_prices_with_season.csv\")\n",
    "\n",
    "# Function to extract variety\n",
    "def extract_variety(commodity):\n",
    "    parts = commodity.split(\" \", 1)  # split only once\n",
    "    if len(parts) == 2:\n",
    "        return parts[1]  # the variety part\n",
    "    else:\n",
    "        return \"Standard\"  # e.g., just \"Pumpkin\"\n",
    "\n",
    "# Apply the function to create the 'Variety' column\n",
    "df[\"Variety\"] = df[\"Commodity\"].apply(extract_variety)\n",
    "\n",
    "# Save updated dataset\n",
    "df.to_csv(\"vegetable_prices_with_variety.csv\", index=False)\n",
    "\n",
    "print(\"Variety column added successfully!\")\n"
   ]
  },
  {
   "cell_type": "code",
   "execution_count": null,
   "metadata": {},
   "outputs": [],
   "source": [
    "import pandas as pd\n",
    "from datetime import datetime\n",
    "\n",
    "# Load your dataset\n",
    "df = pd.read_csv(\"/Users/admin/Desktop/NewCourseWork_AI/FeatureEngineering/vegetable_prices_with_variety.csv\")\n",
    "\n",
    "# Convert Date column to datetime format\n",
    "df['Date'] = pd.to_datetime(df['Date'], errors='coerce', dayfirst=True)\n",
    "\n",
    "# Define common Nepali festivals (yearly ranges may vary slightly)\n",
    "festivals = {\n",
    "    \"Dashain\": [(\"09-15\", \"10-30\")],\n",
    "    \"Tihar\": [(\"11-01\", \"11-15\")],\n",
    "    \"Chhath\": [(\"11-15\", \"11-20\")],\n",
    "    \"Teej\": [(\"08-15\", \"08-30\")],\n",
    "    \"Maghe Sankranti\": [(\"01-13\", \"01-16\")],\n",
    "    \"Holi\": [(\"03-01\", \"03-15\")],\n",
    "}\n",
    "\n",
    "# Function to determine festival\n",
    "def check_festival(date):\n",
    "    if pd.isnull(date):\n",
    "        return \"None\"\n",
    "    month_day = date.strftime(\"%m-%d\")s\n",
    "    for fest, ranges in festivals.items():\n",
    "        for start, end in ranges:\n",
    "            if start <= month_day <= end:\n",
    "                return fest\n",
    "    return \"None\"\n",
    "\n",
    "# Apply the function\n",
    "df[\"Festive_Season\"] = df[\"Date\"].apply(check_festival)\n",
    "\n",
    "# Save updated dataset\n",
    "df.to_csv(\"vegetable_prices_with_festivals.csv\", index=False)\n",
    "\n",
    "print(\"Festive_Season column added successfully!\")\n"
   ]
  }
 ],
 "metadata": {
  "kernelspec": {
   "display_name": "Python 3",
   "language": "python",
   "name": "python3"
  },
  "language_info": {
   "codemirror_mode": {
    "name": "ipython",
    "version": 3
   },
   "file_extension": ".py",
   "mimetype": "text/x-python",
   "name": "python",
   "nbconvert_exporter": "python",
   "pygments_lexer": "ipython3",
   "version": "3.12.8"
  }
 },
 "nbformat": 4,
 "nbformat_minor": 2
}
